{
 "cells": [
  {
   "attachments": {},
   "cell_type": "markdown",
   "id": "4068bec1",
   "metadata": {},
   "source": [
    "# CBQuant - Convertible Bond Quant Strategy\n",
    "**Strategy Overview:**\n",
    "\n",
    "1. Define \n",
    "\n",
    "$$\n",
    "\\begin{aligned} \n",
    "Premium &= \\frac{BondPrice}{FaceValue} - 1 + \\frac{BondPrice\\;*\\;StrikePrice}{FaceValue\\;*\\;StockPrice}- 1\\\\\n",
    "FaceValue &= 100\\\\\n",
    "BondPrice &= Bond\\; Close\\; Price \\\\\n",
    "StockPrice &= Underlying\\; Stock\\; Close\\; Price\\\\\n",
    "\\end{aligned}\n",
    "$$\n",
    "    \n",
    "\n",
    "2. Choose 20 bonds out of 400 from data.csv with the following criteria:\n",
    "    \n",
    "> Bond with least premium\n",
    "\n",
    "3. Hold the position of these 20 bonds for 20 trading days and cash out those that are no longer with least premium. Buy in new bonds with cash.\n",
    "\n",
    "4. The basket is **equal weighted** as a starter.\n"
   ]
  },
  {
   "cell_type": "code",
   "execution_count": null,
   "id": "030e679f",
   "metadata": {},
   "outputs": [],
   "source": []
  },
  {
   "cell_type": "code",
   "execution_count": null,
   "id": "992f378b",
   "metadata": {},
   "outputs": [],
   "source": []
  },
  {
   "cell_type": "code",
   "execution_count": null,
   "id": "7cfc9a6a",
   "metadata": {},
   "outputs": [],
   "source": []
  }
 ],
 "metadata": {
  "kernelspec": {
   "display_name": "Python 3 (ipykernel)",
   "language": "python",
   "name": "python3"
  },
  "language_info": {
   "codemirror_mode": {
    "name": "ipython",
    "version": 3
   },
   "file_extension": ".py",
   "mimetype": "text/x-python",
   "name": "python",
   "nbconvert_exporter": "python",
   "pygments_lexer": "ipython3",
   "version": "3.9.7"
  }
 },
 "nbformat": 4,
 "nbformat_minor": 5
}
